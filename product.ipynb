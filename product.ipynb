{
 "cells": [
  {
   "cell_type": "code",
   "execution_count": 20,
   "metadata": {},
   "outputs": [],
   "source": [
    "import requests\n",
    "import re\n",
    "import os\n",
    "import pandas as pd\n",
    "import json"
   ]
  },
  {
   "cell_type": "code",
   "execution_count": 21,
   "metadata": {},
   "outputs": [
    {
     "name": "stdout",
     "output_type": "stream",
     "text": [
      "<Response [200]>\n",
      "<Response [200]>\n",
      "<Response [200]>\n",
      "<Response [200]>\n"
     ]
    }
   ],
   "source": [
    "# Create a session object for making HTTP requests\n",
    "req = requests.session()\n",
    "\n",
    "# Iterate through 4 pages\n",
    "for i in range(4):\n",
    "    # Define the URL for fetching data from the API\n",
    "    url = f\"https://api-gateway.juno.lenskart.com/v2/products/category/3363?page-size=1000&page={i}\"\n",
    "    \n",
    "    # Send a GET request to the API endpoint\n",
    "    temp = req.get(url)\n",
    "    \n",
    "    # Write the response content to a JSON file\n",
    "    with open(f'lensKartData/page{i+1}.json', 'w', encoding='utf8') as f:\n",
    "        f.write(temp.text)\n",
    "    \n",
    "    # Print the response object\n",
    "    print(temp)"
   ]
  },
  {
   "cell_type": "code",
   "execution_count": 22,
   "metadata": {},
   "outputs": [],
   "source": [
    "r = requests.session()"
   ]
  },
  {
   "cell_type": "code",
   "execution_count": 23,
   "metadata": {},
   "outputs": [],
   "source": [
    "# Define the URL for fetching data from the homepage\n",
    "homepageUrl = \"https://api-gateway.juno.lenskart.com/v2/products/category/3363\"\n",
    "\n",
    "# Send a GET request to the homepage URL\n",
    "homepage = r.get(homepageUrl)\n",
    "\n",
    "# Extract the total number of products from the homepage response\n",
    "total_products = homepage.json()[\"result\"][\"num_of_products\"]"
   ]
  },
  {
   "cell_type": "code",
   "execution_count": 24,
   "metadata": {},
   "outputs": [],
   "source": [
    "# Initialize combined_data dictionary to store all product data\n",
    "combined_data = {\n",
    "    \"category_name\": \"Eyeglasses\",\n",
    "    \"product_list\": []\n",
    "}\n",
    "\n",
    "# Define threshold count and calculate total pages\n",
    "threshold_count = 1395\n",
    "total_pages = total_products // threshold_count + (1 if total_products % threshold_count != 0 else 0)\n",
    "\n",
    "# Loop through each page to fetch product data\n",
    "for page in range(total_pages):\n",
    "    # Determine page size based on threshold count\n",
    "    pageSize = threshold_count if total_products >= threshold_count else total_products\n",
    "    total_products -= threshold_count\n",
    "    \n",
    "    # Define URL for the current page\n",
    "    pageUrl = f\"https://api-gateway.juno.lenskart.com/v2/products/category/3363?page-size={pageSize}&page={page}\"\n",
    "    response = r.get(pageUrl)\n",
    "    \n",
    "    # Process the response\n",
    "    if response.status_code == 200:\n",
    "        data = response.json()\n",
    "        result = {\n",
    "            \"category_name\": \"Eyeglasses\",\n",
    "            \"product_list\": data.get(\"result\", {}).get(\"product_list\", [])\n",
    "        }\n",
    "        \n",
    "        # Write the product data to a JSON file\n",
    "        with open(f'lensKartData/page{page}.json', 'w') as file:\n",
    "            json.dump(result, file, indent=2)\n",
    "        \n",
    "        # Extend the product list in combined_data\n",
    "        combined_data[\"product_list\"].extend(result[\"product_list\"])\n",
    "    else:\n",
    "        print(f\"Error fetching data for page {page}. Status code: {response.status_code}\")\n",
    "\n",
    "# Separate prices into two columns before saving the combined data to a new JSON file\n",
    "for product in combined_data[\"product_list\"]:\n",
    "    prices = product.pop('prices', [])\n",
    "    for price in prices:\n",
    "        if price[\"name\"] == \"Market Price\":\n",
    "            product[\"market_price\"] = price[\"price\"]\n",
    "        elif price[\"name\"] == \"Lenskart Price\":\n",
    "            product[\"lenskart_price\"] = price[\"price\"]\n",
    "\n",
    "# Save the combined data to a JSON file\n",
    "with open('products.json', 'w') as combined_file:\n",
    "    json.dump(combined_data, combined_file, indent=2)\n",
    "\n",
    "# Convert combined data to DataFrame\n",
    "df = pd.DataFrame(combined_data[\"product_list\"])\n",
    "\n",
    "# Safety checks and selecting relevant columns with default values\n",
    "if not df.empty:\n",
    "    selected_columns = [\"id\", \"product_url\", \"color\", \"size\", \"width\", \"brand_name_en\",\n",
    "                        \"model_name\", \"classification\", \"purchaseCount\", \"avgRating\",  \"qty\",\n",
    "                        \"wishlistCount\", \"market_price\", \"lenskart_price\"]  # Include wishlistCount\n",
    "\n",
    "    # Set default values for missing columns\n",
    "    default_values = {\n",
    "        \"purchaseCount\": 0,\n",
    "        \"avgRating\": 0.0,\n",
    "        \"qty\": 0,\n",
    "        \"wishlistCount\": 0  # Default value for wishlistCount\n",
    "    }\n",
    "\n",
    "    df = df[selected_columns].fillna(default_values)\n",
    "\n",
    "    # Save the DataFrame to a CSV file\n",
    "    df.to_csv('products.csv', index=False)\n",
    "else:\n",
    "    print(\"No data to write to CSV.\")\n"
   ]
  }
 ],
 "metadata": {
  "kernelspec": {
   "display_name": "Python 3",
   "language": "python",
   "name": "python3"
  },
  "language_info": {
   "codemirror_mode": {
    "name": "ipython",
    "version": 3
   },
   "file_extension": ".py",
   "mimetype": "text/x-python",
   "name": "python",
   "nbconvert_exporter": "python",
   "pygments_lexer": "ipython3",
   "version": "3.12.0"
  }
 },
 "nbformat": 4,
 "nbformat_minor": 2
}
