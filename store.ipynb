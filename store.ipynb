{
 "cells": [
  {
   "cell_type": "code",
   "execution_count": 69,
   "id": "c8f7e55e",
   "metadata": {},
   "outputs": [],
   "source": [
    "#importing libraries\n",
    "import requests\n",
    "import json\n",
    "import re\n",
    "import csv"
   ]
  },
  {
   "cell_type": "code",
   "execution_count": 70,
   "id": "379f41d9-4cb1-4bb9-bdb7-85e8457dc479",
   "metadata": {},
   "outputs": [],
   "source": [
    "#Initiating session\n",
    "session = requests.session()"
   ]
  },
  {
   "cell_type": "code",
   "execution_count": 71,
   "id": "1e3d6338-d32c-4738-aa5b-878b1ffbc820",
   "metadata": {},
   "outputs": [],
   "source": [
    "#Redirecting to store-page\n",
    "res_main = session.get(\"https://www.lenskart.com/stores\")"
   ]
  },
  {
   "cell_type": "code",
   "execution_count": 72,
   "id": "ef34ba0a-47e9-43a4-9f2f-fef42dfbad10",
   "metadata": {},
   "outputs": [
    {
     "name": "stdout",
     "output_type": "stream",
     "text": [
      "['andhra-pradesh', 'andmaan-nicobar', 'arunachal-pradesh', 'assam', 'bihar', 'chandigarh', 'chennai', 'chhattisgarh', 'dadra-and-nagar-haveli', 'delhi', 'goa', 'gujarat', 'gwalior', 'haryana', 'himachal-pradesh', 'hyderabad', 'jammu-and-kashmir', 'jharkhand', 'karnataka', 'kerala', 'madhya-pradesh', 'maharashtra', 'manipur', 'nagaland', 'new-delhi', 'odisha', 'puducherry', 'punjab', 'rajasthan', 'sikkim', 'tamil-nadu', 'tamil\\xa0nadu', 'telangana', 'tripura', 'uttar-pradesh', 'uttarakhand', 'utter-pradesh', 'uttrakhand', 'west-bengal']\n"
     ]
    }
   ],
   "source": [
    "\n",
    "# Define the pattern\n",
    "ptrn = 'slug\\\":\\\"(.*?)\\\"'\n",
    "\n",
    "# Use re.findall to find all matches in the text\n",
    "matches = re.findall(ptrn, res_main.text)\n",
    "\n",
    "# Filter out items starting with \"optometrist\" or \"lenskart\"\n",
    "filtered_matches = []\n",
    "for match in matches:\n",
    "    if not match.startswith(\"optometrist\") and not match.startswith(\"lenskart\"):\n",
    "        filtered_matches.append(match)\n",
    "\n",
    "# Print the filtered matches\n",
    "print(filtered_matches)\n",
    "\n"
   ]
  },
  {
   "cell_type": "code",
   "execution_count": 73,
   "id": "034f2be7-e6a7-4943-8316-bc051c132f9c",
   "metadata": {},
   "outputs": [
    {
     "name": "stdout",
     "output_type": "stream",
     "text": [
      "39\n"
     ]
    }
   ],
   "source": [
    "#list for store_location\n",
    "store_locations = []\n",
    "#checking store locations\n",
    "for match in filtered_matches:\n",
    "    store_locations.append(match)\n",
    "print(len(store_locations))"
   ]
  },
  {
   "cell_type": "code",
   "execution_count": 74,
   "id": "5442839c-337e-4584-ba14-0606a52825e9",
   "metadata": {},
   "outputs": [],
   "source": [
    "#heaers for post requests\n",
    "header = {\n",
    "    \"User-Agent\": \"Mozilla/5.0 (Windows NT 10.0; Win64; x64) AppleWebKit/537.36 (KHTML, like Gecko) Chrome/122.0.0.0 Safari/537.36\",\n",
    "    \"Xstoreaccesskey\": \"pNRq8BGvIHk/G9AwlBxKG5lz97eYDaxnWO0YYs+VrMY=\"\n",
    "}\n",
    "#headers for post requests\n",
    "payload = {\n",
    "    \"keyword\": None,\n",
    "    \"range\": 10,\n",
    "    \"perPage\": 9999\n",
    "}"
   ]
  },
  {
   "cell_type": "code",
   "execution_count": 75,
   "id": "28dfafc7-d787-499a-b00e-aca8b8d0e3a7",
   "metadata": {},
   "outputs": [],
   "source": [
    "# Iterate through each store location\n",
    "for item in store_locations:\n",
    "    # Update payload with the current store location\n",
    "    payload[\"keyword\"] = item\n",
    "    \n",
    "    # Endpoint URL for fetching store data\n",
    "    url = 'https://locator-stores.lenskart.com/api/v3/store/list'\n",
    "    \n",
    "    try:\n",
    "        # Send POST request to fetch store data\n",
    "        res = requests.post(url, headers=header, data=payload)\n",
    "        \n",
    "        # Check if the request is successful\n",
    "        if res.status_code == 200:\n",
    "            # Construct file path for storing JSON response\n",
    "            file_path = f\"storeData/{item}.json\"\n",
    "            \n",
    "            # Write JSON response to file\n",
    "            with open(file_path, \"w\") as json_file:\n",
    "                json_file.write(res.text)\n",
    "        else:\n",
    "            # Print message if request fails\n",
    "            print(f\"Failed to fetch data for {item}. Status code: {res.status_code}\")\n",
    "    except Exception as e:\n",
    "        # Handle exceptions\n",
    "        print(f\"Error fetching data for {item}: {str(e)}\")"
   ]
  },
  {
   "cell_type": "code",
   "execution_count": 77,
   "id": "41b7b502",
   "metadata": {},
   "outputs": [
    {
     "name": "stdout",
     "output_type": "stream",
     "text": [
      "CSV file created successfully.\n"
     ]
    }
   ],
   "source": [
    "\n",
    "# Define the field names for the CSV\n",
    "fieldnames = ['id', 'alt_store_name_catch', 'address_full', 'address_state', 'store_phone', 'store_email',\n",
    "              'business_hours_openi', 'business_hours_closi', 'averageRating', 'totalReviews','pincode']\n",
    "\n",
    "# Initialize an empty list to store data rows\n",
    "data_rows = []\n",
    "\n",
    "# Iterate over each store location\n",
    "for i in store_locations:\n",
    "    with open(f'storeData/{i}.json', 'r') as fr:\n",
    "        # Read JSON data\n",
    "        json_data = json.load(fr)\n",
    "        \n",
    "        # Extract relevant data from JSON\n",
    "        for store in json_data['data']['data']:\n",
    "            store_data = {\n",
    "                'id': store['id'],\n",
    "                'alt_store_name_catch': store['alt_store_name_catch'],\n",
    "                'address_full': store['address_full'],\n",
    "                'address_state': store['address_state'],\n",
    "                'store_phone': store['store_phone'],\n",
    "                'store_email': store['store_email'],\n",
    "                'business_hours_openi': store['business_hours_openi'],\n",
    "                'business_hours_closi': store['business_hours_closi'],\n",
    "                'averageRating': store['ratingAndReviewCount']['averageRating'],\n",
    "                'totalReviews': store['ratingAndReviewCount']['totalReviews'],\n",
    "                'pincode':store['address_pin_code']\n",
    "            }\n",
    "            # Append store data to the list\n",
    "            data_rows.append(store_data)\n",
    "\n",
    "# Write data to CSV file\n",
    "with open('dataset/store_data.csv', 'w', newline='') as csvfile:\n",
    "    writer = csv.DictWriter(csvfile, fieldnames=fieldnames)\n",
    "    \n",
    "    # Write header\n",
    "    writer.writeheader()\n",
    "    \n",
    "    # Write data rows\n",
    "    for row in data_rows:\n",
    "        writer.writerow(row)\n",
    "\n",
    "print(\"CSV file created successfully.\")\n"
   ]
  }
 ],
 "metadata": {
  "kernelspec": {
   "display_name": "Python 3 (ipykernel)",
   "language": "python",
   "name": "python3"
  },
  "language_info": {
   "codemirror_mode": {
    "name": "ipython",
    "version": 3
   },
   "file_extension": ".py",
   "mimetype": "text/x-python",
   "name": "python",
   "nbconvert_exporter": "python",
   "pygments_lexer": "ipython3",
   "version": "3.12.0"
  }
 },
 "nbformat": 4,
 "nbformat_minor": 5
}
