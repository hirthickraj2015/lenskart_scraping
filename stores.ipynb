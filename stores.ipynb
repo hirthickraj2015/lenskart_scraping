{
 "cells": [
  {
   "cell_type": "code",
   "execution_count": 1,
   "id": "c8f7e55e",
   "metadata": {},
   "outputs": [
    {
     "name": "stderr",
     "output_type": "stream",
     "text": [
      "C:\\Users\\JanardhanaK\\AppData\\Local\\Temp\\ipykernel_10344\\2633935219.py:3: DeprecationWarning: \n",
      "Pyarrow will become a required dependency of pandas in the next major release of pandas (pandas 3.0),\n",
      "(to allow more performant data types, such as the Arrow string type, and better interoperability with other libraries)\n",
      "but was not found to be installed on your system.\n",
      "If this would cause problems for you,\n",
      "please provide us feedback at https://github.com/pandas-dev/pandas/issues/54466\n",
      "        \n",
      "  import pandas as pd\n"
     ]
    }
   ],
   "source": [
    "#importing libraries\n",
    "import requests\n",
    "import json\n",
    "import pandas as pd\n",
    "import re"
   ]
  },
  {
   "cell_type": "code",
   "execution_count": 2,
   "id": "379f41d9-4cb1-4bb9-bdb7-85e8457dc479",
   "metadata": {},
   "outputs": [],
   "source": [
    "#initiating session\n",
    "session = requests.session()"
   ]
  },
  {
   "cell_type": "code",
   "execution_count": 3,
   "id": "1e3d6338-d32c-4738-aa5b-878b1ffbc820",
   "metadata": {},
   "outputs": [],
   "source": [
    "#redirecting to store-page\n",
    "res_main = session.get(\"https://www.lenskart.com/stores\")"
   ]
  },
  {
   "cell_type": "code",
   "execution_count": 13,
   "id": "ef34ba0a-47e9-43a4-9f2f-fef42dfbad10",
   "metadata": {},
   "outputs": [],
   "source": [
    "#creating pattern \n",
    "ptrn='slug\\\":\\\"(.*?)\\\"'\n",
    "main_ptrn=re.findall(ptrn,res_main.text)\n",
    "# slug_pattern = re.compile(r'')\n",
    "# matches = slug_pattern.findall(res_main.text)"
   ]
  },
  {
   "cell_type": "code",
   "execution_count": 14,
   "id": "034f2be7-e6a7-4943-8316-bc051c132f9c",
   "metadata": {},
   "outputs": [
    {
     "name": "stdout",
     "output_type": "stream",
     "text": [
      "['andhra-pradesh', 'andmaan-nicobar', 'arunachal-pradesh', 'assam', 'bihar', 'chandigarh', 'chennai', 'chhattisgarh', 'dadra-and-nagar-haveli', 'delhi', 'goa', 'gujarat', 'gwalior', 'haryana', 'himachal-pradesh', 'hyderabad', 'jammu-and-kashmir', 'jharkhand', 'karnataka', 'kerala', 'madhya-pradesh', 'maharashtra', 'manipur', 'nagaland', 'new-delhi', 'odisha', 'puducherry', 'punjab', 'rajasthan', 'sikkim', 'tamil-nadu', 'tamil\\xa0nadu', 'telangana', 'tripura', 'uttar-pradesh', 'uttarakhand', 'utter-pradesh', 'uttrakhand', 'west-bengal']\n"
     ]
    }
   ],
   "source": [
    "#list for store_location\n",
    "store_locations = []\n",
    "#checking \n",
    "for match in matches:\n",
    "    store_locations.append(match)\n",
    "print(store_locations)"
   ]
  },
  {
   "cell_type": "code",
   "execution_count": 15,
   "id": "5442839c-337e-4584-ba14-0606a52825e9",
   "metadata": {},
   "outputs": [],
   "source": [
    "header = {\n",
    "    \"User-Agent\": \"Mozilla/5.0 (Windows NT 10.0; Win64; x64) AppleWebKit/537.36 (KHTML, like Gecko) Chrome/122.0.0.0 Safari/537.36\",\n",
    "    \"Xstoreaccesskey\": \"pNRq8BGvIHk/G9AwlBxKG5lz97eYDaxnWO0YYs+VrMY=\"\n",
    "}\n",
    "\n",
    "payload = {\n",
    "    \"keyword\": None,\n",
    "    \"range\": 10,\n",
    "    \"perPage\": 9999\n",
    "}"
   ]
  },
  {
   "cell_type": "code",
   "execution_count": 19,
   "id": "28dfafc7-d787-499a-b00e-aca8b8d0e3a7",
   "metadata": {},
   "outputs": [],
   "source": [
    "for item in store_locations:\n",
    "    payload[\"keyword\"] = item\n",
    "    res = session.post(r'https://locator-stores.lenskart.com/api/v3/store/list',headers=header,data=payload)\n",
    "    res_content_json = res.text\n",
    "    file_path = f\"{item}.json\"\n",
    "    with open(file_path, \"w\") as json_file:\n",
    "        json_file.write(res_content_json)"
   ]
  },
  {
   "cell_type": "code",
   "execution_count": 21,
   "id": "41b7b502",
   "metadata": {},
   "outputs": [
    {
     "name": "stdout",
     "output_type": "stream",
     "text": [
      "CSV file created successfully.\n"
     ]
    }
   ],
   "source": [
    "import csv\n",
    "\n",
    "# Define the field names for the CSV\n",
    "fieldnames = ['id', 'alt_store_name_catch', 'address_full', 'address_state', 'store_phone', 'store_email',\n",
    "              'business_hours_openi', 'business_hours_closi', 'averageRating', 'totalReviews']\n",
    "\n",
    "# Initialize an empty list to store data rows\n",
    "data_rows = []\n",
    "\n",
    "# Iterate over each store location\n",
    "for i in store_locations:\n",
    "    with open(f'{i}.json', 'r') as fr:\n",
    "        # Read JSON data\n",
    "        json_data = json.load(fr)\n",
    "        \n",
    "        # Extract relevant data from JSON\n",
    "        for store in json_data['data']['data']:\n",
    "            store_data = {\n",
    "                'id': store['id'],\n",
    "                'alt_store_name_catch': store['alt_store_name_catch'],\n",
    "                'address_full': store['address_full'],\n",
    "                'address_state': store['address_state'],\n",
    "                'store_phone': store['store_phone'],\n",
    "                'store_email': store['store_email'],\n",
    "                'business_hours_openi': store['business_hours_openi'],\n",
    "                'business_hours_closi': store['business_hours_closi'],\n",
    "                'averageRating': store['ratingAndReviewCount']['averageRating'],\n",
    "                'totalReviews': store['ratingAndReviewCount']['totalReviews']\n",
    "            }\n",
    "            # Append store data to the list\n",
    "            data_rows.append(store_data)\n",
    "\n",
    "# Write data to CSV file\n",
    "with open('store_data.csv', 'w', newline='') as csvfile:\n",
    "    writer = csv.DictWriter(csvfile, fieldnames=fieldnames)\n",
    "    \n",
    "    # Write header\n",
    "    writer.writeheader()\n",
    "    \n",
    "    # Write data rows\n",
    "    for row in data_rows:\n",
    "        writer.writerow(row)\n",
    "\n",
    "print(\"CSV file created successfully.\")\n"
   ]
  },
  {
   "cell_type": "code",
   "execution_count": null,
   "id": "7856e1ec-7a75-4f67-963d-301b269b67a0",
   "metadata": {},
   "outputs": [],
   "source": []
  },
  {
   "cell_type": "code",
   "execution_count": null,
   "id": "14c1f220",
   "metadata": {},
   "outputs": [],
   "source": []
  }
 ],
 "metadata": {
  "kernelspec": {
   "display_name": "Python 3 (ipykernel)",
   "language": "python",
   "name": "python3"
  },
  "language_info": {
   "codemirror_mode": {
    "name": "ipython",
    "version": 3
   },
   "file_extension": ".py",
   "mimetype": "text/x-python",
   "name": "python",
   "nbconvert_exporter": "python",
   "pygments_lexer": "ipython3",
   "version": "3.12.2"
  }
 },
 "nbformat": 4,
 "nbformat_minor": 5
}
